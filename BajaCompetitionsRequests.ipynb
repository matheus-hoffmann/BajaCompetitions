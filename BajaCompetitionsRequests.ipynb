{
 "cells": [
  {
   "cell_type": "markdown",
   "metadata": {},
   "source": [
    "# Lendo e selecionando as variáveis"
   ]
  },
  {
   "cell_type": "code",
   "execution_count": 1,
   "metadata": {},
   "outputs": [],
   "source": [
    "import numpy as np\n",
    "import pandas as pd\n",
    "import pickle\n",
    "import requests\n",
    "from sklearn.preprocessing import MinMaxScaler"
   ]
  },
  {
   "cell_type": "code",
   "execution_count": 2,
   "metadata": {},
   "outputs": [],
   "source": [
    "df = pd.read_csv(\"data/dataset.csv\")\n",
    "df = df.drop(df[df['Ano'] < 2014].index).reset_index(drop=True)\n",
    "variaveis_analisadas = ['Seguranca', 'Projeto', 'Dinamicas', 'Enduro', 'Posicao']\n",
    "df = df[variaveis_analisadas]"
   ]
  },
  {
   "cell_type": "markdown",
   "metadata": {},
   "source": [
    "# Fazendo a requisição"
   ]
  },
  {
   "cell_type": "code",
   "execution_count": 14,
   "metadata": {},
   "outputs": [
    {
     "data": {
      "text/html": [
       "<div>\n",
       "<style scoped>\n",
       "    .dataframe tbody tr th:only-of-type {\n",
       "        vertical-align: middle;\n",
       "    }\n",
       "\n",
       "    .dataframe tbody tr th {\n",
       "        vertical-align: top;\n",
       "    }\n",
       "\n",
       "    .dataframe thead th {\n",
       "        text-align: right;\n",
       "    }\n",
       "</style>\n",
       "<table border=\"1\" class=\"dataframe\">\n",
       "  <thead>\n",
       "    <tr style=\"text-align: right;\">\n",
       "      <th></th>\n",
       "      <th>Seguranca</th>\n",
       "      <th>Projeto</th>\n",
       "      <th>Dinamicas</th>\n",
       "      <th>Enduro</th>\n",
       "      <th>Posicao</th>\n",
       "    </tr>\n",
       "  </thead>\n",
       "  <tbody>\n",
       "    <tr>\n",
       "      <th>154</th>\n",
       "      <td>0.0</td>\n",
       "      <td>183.89</td>\n",
       "      <td>202.43</td>\n",
       "      <td>344.44</td>\n",
       "      <td>7</td>\n",
       "    </tr>\n",
       "    <tr>\n",
       "      <th>132</th>\n",
       "      <td>-10.0</td>\n",
       "      <td>83.17</td>\n",
       "      <td>-10.00</td>\n",
       "      <td>0.00</td>\n",
       "      <td>61</td>\n",
       "    </tr>\n",
       "    <tr>\n",
       "      <th>530</th>\n",
       "      <td>-25.0</td>\n",
       "      <td>155.68</td>\n",
       "      <td>45.81</td>\n",
       "      <td>32.00</td>\n",
       "      <td>52</td>\n",
       "    </tr>\n",
       "    <tr>\n",
       "      <th>370</th>\n",
       "      <td>-10.0</td>\n",
       "      <td>36.13</td>\n",
       "      <td>0.00</td>\n",
       "      <td>0.00</td>\n",
       "      <td>61</td>\n",
       "    </tr>\n",
       "    <tr>\n",
       "      <th>435</th>\n",
       "      <td>-20.0</td>\n",
       "      <td>110.34</td>\n",
       "      <td>1.00</td>\n",
       "      <td>173.58</td>\n",
       "      <td>43</td>\n",
       "    </tr>\n",
       "  </tbody>\n",
       "</table>\n",
       "</div>"
      ],
      "text/plain": [
       "     Seguranca  Projeto  Dinamicas  Enduro  Posicao\n",
       "154        0.0   183.89     202.43  344.44        7\n",
       "132      -10.0    83.17     -10.00    0.00       61\n",
       "530      -25.0   155.68      45.81   32.00       52\n",
       "370      -10.0    36.13       0.00    0.00       61\n",
       "435      -20.0   110.34       1.00  173.58       43"
      ]
     },
     "execution_count": 14,
     "metadata": {},
     "output_type": "execute_result"
    }
   ],
   "source": [
    "df_test = df.sample(n=5)\n",
    "df_x_test_json = df_test.drop(columns=['Posicao']).to_json(orient='records')\n",
    "df_test"
   ]
  },
  {
   "cell_type": "code",
   "execution_count": 15,
   "metadata": {},
   "outputs": [],
   "source": [
    "r = requests.post(url='http://127.0.0.1:5000/predict',\n",
    "                  data=df_x_test_json,\n",
    "                  headers={'Content-type': 'application/json'})"
   ]
  },
  {
   "cell_type": "code",
   "execution_count": 16,
   "metadata": {},
   "outputs": [
    {
     "data": {
      "text/html": [
       "<div>\n",
       "<style scoped>\n",
       "    .dataframe tbody tr th:only-of-type {\n",
       "        vertical-align: middle;\n",
       "    }\n",
       "\n",
       "    .dataframe tbody tr th {\n",
       "        vertical-align: top;\n",
       "    }\n",
       "\n",
       "    .dataframe thead th {\n",
       "        text-align: right;\n",
       "    }\n",
       "</style>\n",
       "<table border=\"1\" class=\"dataframe\">\n",
       "  <thead>\n",
       "    <tr style=\"text-align: right;\">\n",
       "      <th></th>\n",
       "      <th>Seguranca</th>\n",
       "      <th>Projeto</th>\n",
       "      <th>Dinamicas</th>\n",
       "      <th>Enduro</th>\n",
       "      <th>prediction</th>\n",
       "    </tr>\n",
       "  </thead>\n",
       "  <tbody>\n",
       "    <tr>\n",
       "      <th>0</th>\n",
       "      <td>0.0</td>\n",
       "      <td>183.89</td>\n",
       "      <td>202.43</td>\n",
       "      <td>344.44</td>\n",
       "      <td>7.0</td>\n",
       "    </tr>\n",
       "    <tr>\n",
       "      <th>1</th>\n",
       "      <td>-10.0</td>\n",
       "      <td>83.17</td>\n",
       "      <td>-10.00</td>\n",
       "      <td>0.00</td>\n",
       "      <td>61.0</td>\n",
       "    </tr>\n",
       "    <tr>\n",
       "      <th>2</th>\n",
       "      <td>-25.0</td>\n",
       "      <td>155.68</td>\n",
       "      <td>45.81</td>\n",
       "      <td>32.00</td>\n",
       "      <td>46.0</td>\n",
       "    </tr>\n",
       "    <tr>\n",
       "      <th>3</th>\n",
       "      <td>-10.0</td>\n",
       "      <td>36.13</td>\n",
       "      <td>0.00</td>\n",
       "      <td>0.00</td>\n",
       "      <td>66.0</td>\n",
       "    </tr>\n",
       "    <tr>\n",
       "      <th>4</th>\n",
       "      <td>-20.0</td>\n",
       "      <td>110.34</td>\n",
       "      <td>1.00</td>\n",
       "      <td>173.58</td>\n",
       "      <td>41.0</td>\n",
       "    </tr>\n",
       "  </tbody>\n",
       "</table>\n",
       "</div>"
      ],
      "text/plain": [
       "   Seguranca  Projeto  Dinamicas  Enduro  prediction\n",
       "0        0.0   183.89     202.43  344.44         7.0\n",
       "1      -10.0    83.17     -10.00    0.00        61.0\n",
       "2      -25.0   155.68      45.81   32.00        46.0\n",
       "3      -10.0    36.13       0.00    0.00        66.0\n",
       "4      -20.0   110.34       1.00  173.58        41.0"
      ]
     },
     "execution_count": 16,
     "metadata": {},
     "output_type": "execute_result"
    }
   ],
   "source": [
    "pd.DataFrame(r.json(), columns=r.json()[0].keys())"
   ]
  }
 ],
 "metadata": {
  "kernelspec": {
   "display_name": "Python 3.10.1 ('venv': venv)",
   "language": "python",
   "name": "python3"
  },
  "language_info": {
   "codemirror_mode": {
    "name": "ipython",
    "version": 3
   },
   "file_extension": ".py",
   "mimetype": "text/x-python",
   "name": "python",
   "nbconvert_exporter": "python",
   "pygments_lexer": "ipython3",
   "version": "3.10.1"
  },
  "orig_nbformat": 4,
  "vscode": {
   "interpreter": {
    "hash": "2646b853ad16a06ac6e498ae25d59a5fce5123f2844d0bc5cb2cb740ffe879c6"
   }
  }
 },
 "nbformat": 4,
 "nbformat_minor": 2
}
