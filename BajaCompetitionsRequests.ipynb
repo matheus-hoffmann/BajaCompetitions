{
 "cells": [
  {
   "cell_type": "markdown",
   "metadata": {},
   "source": [
    "# Lendo e selecionando as variáveis"
   ]
  },
  {
   "cell_type": "code",
   "execution_count": 2,
   "metadata": {},
   "outputs": [],
   "source": [
    "import numpy as np\n",
    "import pandas as pd\n",
    "import pickle\n",
    "import requests"
   ]
  },
  {
   "cell_type": "code",
   "execution_count": 3,
   "metadata": {},
   "outputs": [],
   "source": [
    "df = pd.read_csv(\"data/dataset.csv\")\n",
    "df = df.drop(df[df['Ano'] < 2014].index).reset_index(drop=True)\n",
    "variaveis_analisadas = ['Seguranca', 'Projeto', 'Dinamicas', 'Enduro', 'Posicao']\n",
    "df = df[variaveis_analisadas]"
   ]
  },
  {
   "cell_type": "markdown",
   "metadata": {},
   "source": [
    "# Fazendo a requisição"
   ]
  },
  {
   "cell_type": "code",
   "execution_count": 4,
   "metadata": {},
   "outputs": [
    {
     "data": {
      "text/html": [
       "<div>\n",
       "<style scoped>\n",
       "    .dataframe tbody tr th:only-of-type {\n",
       "        vertical-align: middle;\n",
       "    }\n",
       "\n",
       "    .dataframe tbody tr th {\n",
       "        vertical-align: top;\n",
       "    }\n",
       "\n",
       "    .dataframe thead th {\n",
       "        text-align: right;\n",
       "    }\n",
       "</style>\n",
       "<table border=\"1\" class=\"dataframe\">\n",
       "  <thead>\n",
       "    <tr style=\"text-align: right;\">\n",
       "      <th></th>\n",
       "      <th>Seguranca</th>\n",
       "      <th>Projeto</th>\n",
       "      <th>Dinamicas</th>\n",
       "      <th>Enduro</th>\n",
       "      <th>Posicao</th>\n",
       "    </tr>\n",
       "  </thead>\n",
       "  <tbody>\n",
       "    <tr>\n",
       "      <th>222</th>\n",
       "      <td>0.0</td>\n",
       "      <td>267.27</td>\n",
       "      <td>191.31</td>\n",
       "      <td>400.00</td>\n",
       "      <td>1</td>\n",
       "    </tr>\n",
       "    <tr>\n",
       "      <th>53</th>\n",
       "      <td>-30.0</td>\n",
       "      <td>67.92</td>\n",
       "      <td>0.00</td>\n",
       "      <td>59.57</td>\n",
       "      <td>54</td>\n",
       "    </tr>\n",
       "    <tr>\n",
       "      <th>130</th>\n",
       "      <td>-20.0</td>\n",
       "      <td>79.25</td>\n",
       "      <td>-20.00</td>\n",
       "      <td>19.05</td>\n",
       "      <td>59</td>\n",
       "    </tr>\n",
       "    <tr>\n",
       "      <th>23</th>\n",
       "      <td>0.0</td>\n",
       "      <td>158.09</td>\n",
       "      <td>92.39</td>\n",
       "      <td>178.72</td>\n",
       "      <td>24</td>\n",
       "    </tr>\n",
       "    <tr>\n",
       "      <th>54</th>\n",
       "      <td>-15.0</td>\n",
       "      <td>103.92</td>\n",
       "      <td>0.00</td>\n",
       "      <td>0.00</td>\n",
       "      <td>55</td>\n",
       "    </tr>\n",
       "  </tbody>\n",
       "</table>\n",
       "</div>"
      ],
      "text/plain": [
       "     Seguranca  Projeto  Dinamicas  Enduro  Posicao\n",
       "222        0.0   267.27     191.31  400.00        1\n",
       "53       -30.0    67.92       0.00   59.57       54\n",
       "130      -20.0    79.25     -20.00   19.05       59\n",
       "23         0.0   158.09      92.39  178.72       24\n",
       "54       -15.0   103.92       0.00    0.00       55"
      ]
     },
     "execution_count": 4,
     "metadata": {},
     "output_type": "execute_result"
    }
   ],
   "source": [
    "df_test = df.sample(n=5)\n",
    "df_x_test_json = df_test.drop(columns=['Posicao']).to_json(orient='records')\n",
    "df_test"
   ]
  },
  {
   "cell_type": "markdown",
   "metadata": {},
   "source": [
    "## Requisição local"
   ]
  },
  {
   "cell_type": "code",
   "execution_count": 5,
   "metadata": {},
   "outputs": [],
   "source": [
    "r = requests.post(url='http://127.0.0.1:5000/predict',\n",
    "                  data=df_x_test_json,\n",
    "                  headers={'Content-type': 'application/json'})"
   ]
  },
  {
   "cell_type": "code",
   "execution_count": 6,
   "metadata": {},
   "outputs": [
    {
     "data": {
      "text/html": [
       "<div>\n",
       "<style scoped>\n",
       "    .dataframe tbody tr th:only-of-type {\n",
       "        vertical-align: middle;\n",
       "    }\n",
       "\n",
       "    .dataframe tbody tr th {\n",
       "        vertical-align: top;\n",
       "    }\n",
       "\n",
       "    .dataframe thead th {\n",
       "        text-align: right;\n",
       "    }\n",
       "</style>\n",
       "<table border=\"1\" class=\"dataframe\">\n",
       "  <thead>\n",
       "    <tr style=\"text-align: right;\">\n",
       "      <th></th>\n",
       "      <th>Seguranca</th>\n",
       "      <th>Projeto</th>\n",
       "      <th>Dinamicas</th>\n",
       "      <th>Enduro</th>\n",
       "      <th>prediction</th>\n",
       "    </tr>\n",
       "  </thead>\n",
       "  <tbody>\n",
       "    <tr>\n",
       "      <th>0</th>\n",
       "      <td>0.0</td>\n",
       "      <td>267.27</td>\n",
       "      <td>191.31</td>\n",
       "      <td>400.00</td>\n",
       "      <td>2.0</td>\n",
       "    </tr>\n",
       "    <tr>\n",
       "      <th>1</th>\n",
       "      <td>-30.0</td>\n",
       "      <td>67.92</td>\n",
       "      <td>0.00</td>\n",
       "      <td>59.57</td>\n",
       "      <td>58.0</td>\n",
       "    </tr>\n",
       "    <tr>\n",
       "      <th>2</th>\n",
       "      <td>-20.0</td>\n",
       "      <td>79.25</td>\n",
       "      <td>-20.00</td>\n",
       "      <td>19.05</td>\n",
       "      <td>62.0</td>\n",
       "    </tr>\n",
       "    <tr>\n",
       "      <th>3</th>\n",
       "      <td>0.0</td>\n",
       "      <td>158.09</td>\n",
       "      <td>92.39</td>\n",
       "      <td>178.72</td>\n",
       "      <td>26.0</td>\n",
       "    </tr>\n",
       "    <tr>\n",
       "      <th>4</th>\n",
       "      <td>-15.0</td>\n",
       "      <td>103.92</td>\n",
       "      <td>0.00</td>\n",
       "      <td>0.00</td>\n",
       "      <td>58.0</td>\n",
       "    </tr>\n",
       "  </tbody>\n",
       "</table>\n",
       "</div>"
      ],
      "text/plain": [
       "   Seguranca  Projeto  Dinamicas  Enduro  prediction\n",
       "0        0.0   267.27     191.31  400.00         2.0\n",
       "1      -30.0    67.92       0.00   59.57        58.0\n",
       "2      -20.0    79.25     -20.00   19.05        62.0\n",
       "3        0.0   158.09      92.39  178.72        26.0\n",
       "4      -15.0   103.92       0.00    0.00        58.0"
      ]
     },
     "execution_count": 6,
     "metadata": {},
     "output_type": "execute_result"
    }
   ],
   "source": [
    "pd.DataFrame(r.json(), columns=r.json()[0].keys())"
   ]
  },
  {
   "cell_type": "markdown",
   "metadata": {},
   "source": [
    "## Requisição pelo Heroku"
   ]
  },
  {
   "cell_type": "code",
   "execution_count": 7,
   "metadata": {},
   "outputs": [],
   "source": [
    "r = requests.post(url='https://baja-competitions.herokuapp.com/predict',\n",
    "                  data=df_x_test_json,\n",
    "                  headers={'Content-type': 'application/json'})"
   ]
  },
  {
   "cell_type": "code",
   "execution_count": 8,
   "metadata": {},
   "outputs": [
    {
     "data": {
      "text/html": [
       "<div>\n",
       "<style scoped>\n",
       "    .dataframe tbody tr th:only-of-type {\n",
       "        vertical-align: middle;\n",
       "    }\n",
       "\n",
       "    .dataframe tbody tr th {\n",
       "        vertical-align: top;\n",
       "    }\n",
       "\n",
       "    .dataframe thead th {\n",
       "        text-align: right;\n",
       "    }\n",
       "</style>\n",
       "<table border=\"1\" class=\"dataframe\">\n",
       "  <thead>\n",
       "    <tr style=\"text-align: right;\">\n",
       "      <th></th>\n",
       "      <th>Seguranca</th>\n",
       "      <th>Projeto</th>\n",
       "      <th>Dinamicas</th>\n",
       "      <th>Enduro</th>\n",
       "      <th>prediction</th>\n",
       "    </tr>\n",
       "  </thead>\n",
       "  <tbody>\n",
       "    <tr>\n",
       "      <th>0</th>\n",
       "      <td>0.0</td>\n",
       "      <td>267.27</td>\n",
       "      <td>191.31</td>\n",
       "      <td>400.00</td>\n",
       "      <td>2.0</td>\n",
       "    </tr>\n",
       "    <tr>\n",
       "      <th>1</th>\n",
       "      <td>-30.0</td>\n",
       "      <td>67.92</td>\n",
       "      <td>0.00</td>\n",
       "      <td>59.57</td>\n",
       "      <td>58.0</td>\n",
       "    </tr>\n",
       "    <tr>\n",
       "      <th>2</th>\n",
       "      <td>-20.0</td>\n",
       "      <td>79.25</td>\n",
       "      <td>-20.00</td>\n",
       "      <td>19.05</td>\n",
       "      <td>62.0</td>\n",
       "    </tr>\n",
       "    <tr>\n",
       "      <th>3</th>\n",
       "      <td>0.0</td>\n",
       "      <td>158.09</td>\n",
       "      <td>92.39</td>\n",
       "      <td>178.72</td>\n",
       "      <td>26.0</td>\n",
       "    </tr>\n",
       "    <tr>\n",
       "      <th>4</th>\n",
       "      <td>-15.0</td>\n",
       "      <td>103.92</td>\n",
       "      <td>0.00</td>\n",
       "      <td>0.00</td>\n",
       "      <td>58.0</td>\n",
       "    </tr>\n",
       "  </tbody>\n",
       "</table>\n",
       "</div>"
      ],
      "text/plain": [
       "   Seguranca  Projeto  Dinamicas  Enduro  prediction\n",
       "0        0.0   267.27     191.31  400.00         2.0\n",
       "1      -30.0    67.92       0.00   59.57        58.0\n",
       "2      -20.0    79.25     -20.00   19.05        62.0\n",
       "3        0.0   158.09      92.39  178.72        26.0\n",
       "4      -15.0   103.92       0.00    0.00        58.0"
      ]
     },
     "execution_count": 8,
     "metadata": {},
     "output_type": "execute_result"
    }
   ],
   "source": [
    "pd.DataFrame(r.json(), columns=r.json()[0].keys())"
   ]
  }
 ],
 "metadata": {
  "kernelspec": {
   "display_name": "Python 3.10.1 ('venv': venv)",
   "language": "python",
   "name": "python3"
  },
  "language_info": {
   "codemirror_mode": {
    "name": "ipython",
    "version": 3
   },
   "file_extension": ".py",
   "mimetype": "text/x-python",
   "name": "python",
   "nbconvert_exporter": "python",
   "pygments_lexer": "ipython3",
   "version": "3.10.1"
  },
  "orig_nbformat": 4,
  "vscode": {
   "interpreter": {
    "hash": "2646b853ad16a06ac6e498ae25d59a5fce5123f2844d0bc5cb2cb740ffe879c6"
   }
  }
 },
 "nbformat": 4,
 "nbformat_minor": 2
}
