{
 "cells": [
  {
   "cell_type": "markdown",
   "metadata": {},
   "source": [
    "# Importando bibliotecas"
   ]
  },
  {
   "cell_type": "code",
   "execution_count": 1,
   "metadata": {},
   "outputs": [],
   "source": [
    "import pandas as pd\n",
    "import numpy as np\n",
    "import requests"
   ]
  },
  {
   "cell_type": "markdown",
   "metadata": {},
   "source": [
    "# Definindo pontuação a ser avaliada"
   ]
  },
  {
   "cell_type": "code",
   "execution_count": 10,
   "metadata": {},
   "outputs": [],
   "source": [
    "pontuacao_seguranca = 0\n",
    "pontuacao_projeto = 150\n",
    "pontuacao_dinamicas = 200\n",
    "pontuacao_enduro = 300"
   ]
  },
  {
   "cell_type": "markdown",
   "metadata": {},
   "source": [
    "# Predição"
   ]
  },
  {
   "cell_type": "code",
   "execution_count": 11,
   "metadata": {},
   "outputs": [
    {
     "name": "stdout",
     "output_type": "stream",
     "text": [
      "Seguranca |  Projeto  | Dinamicas |  Enduro   |  Posicao \n",
      "    0     |    150    |    200    |    300    |   11.0   \n"
     ]
    }
   ],
   "source": [
    "# Criação do DataFrame\n",
    "pontuacao_dict = {'Seguranca': [pontuacao_seguranca],\n",
    "                  'Projeto': [pontuacao_projeto],\n",
    "                  'Dinamicas': [pontuacao_dinamicas],\n",
    "                  'Enduro': [pontuacao_enduro]}\n",
    "df = pd.DataFrame.from_dict(pontuacao_dict)\n",
    "\n",
    "# Requisição pelo Heroku\n",
    "r = requests.post(url='https://baja-competitions.herokuapp.com/predict',\n",
    "                  data=df.to_json(orient='records'),\n",
    "                  headers={'Content-type': 'application/json'})\n",
    "\n",
    "# Predição\n",
    "df_pred = pd.DataFrame(r.json(), columns=r.json()[0].keys())\n",
    "print(\"{:^9} | {:^9} | {:^9} | {:^9} | {:^9}\".format('Seguranca',\n",
    "                                                     'Projeto',\n",
    "                                                     'Dinamicas',\n",
    "                                                     'Enduro',\n",
    "                                                     'Posicao'))\n",
    "for i in range(len(df_pred)):\n",
    "    print(\"{:^9} | {:^9} | {:^9} | {:^9} | {:^9}\".format(df_pred['Seguranca'][i],\n",
    "                                                         df_pred['Projeto'][i],\n",
    "                                                         df_pred['Dinamicas'][i],\n",
    "                                                         df_pred['Enduro'][i],\n",
    "                                                         df_pred['prediction'][i]))\n"
   ]
  }
 ],
 "metadata": {
  "kernelspec": {
   "display_name": "Python 3.10.1 ('venv': venv)",
   "language": "python",
   "name": "python3"
  },
  "language_info": {
   "codemirror_mode": {
    "name": "ipython",
    "version": 3
   },
   "file_extension": ".py",
   "mimetype": "text/x-python",
   "name": "python",
   "nbconvert_exporter": "python",
   "pygments_lexer": "ipython3",
   "version": "3.10.1"
  },
  "orig_nbformat": 4,
  "vscode": {
   "interpreter": {
    "hash": "2646b853ad16a06ac6e498ae25d59a5fce5123f2844d0bc5cb2cb740ffe879c6"
   }
  }
 },
 "nbformat": 4,
 "nbformat_minor": 2
}
